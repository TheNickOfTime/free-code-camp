{
  "cells": [
    {
      "cell_type": "code",
      "execution_count": null,
      "metadata": {
        "id": "Y1onB6kUvo4Z"
      },
      "outputs": [],
      "source": [
        "# import libraries (you may add additional imports but you may not have to)\n",
        "import numpy as np\n",
        "import pandas as pd\n",
        "from scipy.sparse import csr_matrix\n",
        "from sklearn.neighbors import NearestNeighbors\n",
        "from sklearn.preprocessing import OrdinalEncoder\n",
        "import matplotlib.pyplot as plt\n",
        "import os.path"
      ]
    },
    {
      "cell_type": "code",
      "execution_count": null,
      "metadata": {},
      "outputs": [],
      "source": [
        "%pip install numpy pandas scipy scikit-learn matplotlib"
      ]
    },
    {
      "cell_type": "code",
      "execution_count": null,
      "metadata": {
        "id": "iAQGqqO_vo4d"
      },
      "outputs": [],
      "source": [
        "if not os.path.isfile(path='book-crossings.zip'):\n",
        "\t!wget 'https://cdn.freecodecamp.org/project-data/books/book-crossings.zip'\n",
        "\t!unzip 'book-crossings.zip'\n",
        "\n",
        "books_filename = 'BX-Books.csv'\n",
        "ratings_filename = 'BX-Book-Ratings.csv'"
      ]
    },
    {
      "cell_type": "code",
      "execution_count": null,
      "metadata": {
        "id": "NClILWOiEd6Q"
      },
      "outputs": [],
      "source": [
        "# import csv data into dataframes\n",
        "df_books = pd.read_csv(\n",
        "    books_filename,\n",
        "    encoding = \"ISO-8859-1\",\n",
        "    sep=\";\",\n",
        "    header=0,\n",
        "    names=['isbn', 'title', 'author'],\n",
        "    usecols=['isbn', 'title', 'author'],\n",
        "    dtype={'isbn': 'str', 'title': 'str', 'author': 'str'})\n",
        "\n",
        "df_ratings = pd.read_csv(\n",
        "    ratings_filename,\n",
        "    encoding = \"ISO-8859-1\",\n",
        "    sep=\";\",\n",
        "    header=0,\n",
        "    names=['user', 'isbn', 'rating'],\n",
        "    usecols=['user', 'isbn', 'rating'],\n",
        "    dtype={'user': 'int32', 'isbn': 'str', 'rating': 'float32'})"
      ]
    },
    {
      "cell_type": "code",
      "execution_count": null,
      "metadata": {},
      "outputs": [],
      "source": [
        "# get users who have at least 200 reviews\n",
        "reviews_per_user = pd.DataFrame(df_ratings['user'].value_counts())\n",
        "valid_users = reviews_per_user[reviews_per_user['count'] >= 200].index\n",
        "\n",
        "# get books that have at least 100 reviews\n",
        "reviews_per_isbn = pd.DataFrame(df_ratings['isbn'].value_counts())\n",
        "valid_isbns = reviews_per_isbn[reviews_per_isbn['count'] >= 100].index\n",
        "\n",
        "# filter out reviews for users without enough reviews,\n",
        "# then filter out reviews for books without enough reviews\n",
        "df_reviews_filtered = df_ratings[df_ratings['user'].isin(valid_users)]\n",
        "df_reviews_filtered = df_reviews_filtered[df_reviews_filtered['isbn'].isin(valid_isbns)]\n",
        "\n",
        "# join books df on filtered reviews to add author and book title info\n",
        "df_merged = pd.merge(right=df_reviews_filtered, left=df_books, on='isbn')\n",
        "# df_merged\n",
        "\n",
        "# encode categorical data to integers\n",
        "# df_encoder = OrdinalEncoder()\n",
        "# df_encoder.fit(df_merged)\n",
        "\n",
        "# df_encoded = df_encoder.transform(df_merged)\n",
        "# df_encoded\n",
        "\n",
        "# print(pd.DataFrame(df_merged.iloc[0]).T)\n",
        "# df_encoded = df_encoder.transform(pd.DataFrame(df_merged.iloc[0]).T)\n",
        "# print(df_encoder.categories_[0][int(df_encoded[0][0])])\n",
        "\n",
        "#pivot table to show relation between a book and a users rating\n",
        "df_pivot = df_merged.pivot_table(index='title', columns='user', values='rating').fillna(0)\n",
        "display(df_pivot)\n",
        "\n"
      ]
    },
    {
      "cell_type": "code",
      "execution_count": null,
      "metadata": {},
      "outputs": [],
      "source": [
        "# create model\n",
        "model = NearestNeighbors(n_neighbors=6, metric='cosine').fit(df_pivot)"
      ]
    },
    {
      "cell_type": "code",
      "execution_count": null,
      "metadata": {
        "id": "f5ZUd-L1SQz7"
      },
      "outputs": [],
      "source": [
        "# function to return recommended books - this will be tested\n",
        "def get_recommends(book = \"\"):\n",
        "\tdistances, indices = model.kneighbors(pd.DataFrame(df_pivot.loc[book]).T)\n",
        "\n",
        "\trecommended_books = []\n",
        "\tfor i in range(len(indices.flatten())):\n",
        "\t\tif i != 0:\n",
        "\t\t\ttitle = df_pivot.iloc[indices.flatten()[i]].name\n",
        "\t\t\trecommended_books.append([title, distances.flatten()[i]])\n",
        "\n",
        "\trecommended_books.reverse()\n",
        "\n",
        "\trecommended_books = [book, recommended_books]\n",
        "\n",
        "\treturn recommended_books"
      ]
    },
    {
      "cell_type": "code",
      "execution_count": null,
      "metadata": {},
      "outputs": [],
      "source": [
        "get_recommends(\"Where the Heart Is (Oprah's Book Club (Paperback))\")"
      ]
    },
    {
      "cell_type": "code",
      "execution_count": null,
      "metadata": {
        "id": "jd2SLCh8oxMh"
      },
      "outputs": [],
      "source": [
        "books = get_recommends(\"Where the Heart Is (Oprah's Book Club (Paperback))\")\n",
        "print(books)\n",
        "\n",
        "def test_book_recommendation():\n",
        "  test_pass = True\n",
        "  recommends = get_recommends(\"Where the Heart Is (Oprah's Book Club (Paperback))\")\n",
        "  if recommends[0] != \"Where the Heart Is (Oprah's Book Club (Paperback))\":\n",
        "    test_pass = False\n",
        "  recommended_books = [\"I'll Be Seeing You\", 'The Weight of Water', 'The Surgeon', 'I Know This Much Is True']\n",
        "  recommended_books_dist = [0.8, 0.77, 0.77, 0.77]\n",
        "  for i in range(2): \n",
        "    if recommends[1][i][0] not in recommended_books:\n",
        "      test_pass = False\n",
        "    if abs(recommends[1][i][1] - recommended_books_dist[i]) >= 0.05:\n",
        "      test_pass = False\n",
        "  if test_pass:\n",
        "    print(\"You passed the challenge! 🎉🎉🎉🎉🎉\")\n",
        "  else:\n",
        "    print(\"You haven't passed yet. Keep trying!\")\n",
        "\n",
        "test_book_recommendation()"
      ]
    }
  ],
  "metadata": {
    "colab": {
      "collapsed_sections": [],
      "name": "fcc_book_recommendation_knn.ipynb",
      "provenance": []
    },
    "kernelspec": {
      "display_name": "Python 3",
      "language": "python",
      "name": "python3"
    },
    "language_info": {
      "codemirror_mode": {
        "name": "ipython",
        "version": 3
      },
      "file_extension": ".py",
      "mimetype": "text/x-python",
      "name": "python",
      "nbconvert_exporter": "python",
      "pygments_lexer": "ipython3",
      "version": "3.12.2"
    }
  },
  "nbformat": 4,
  "nbformat_minor": 0
}
