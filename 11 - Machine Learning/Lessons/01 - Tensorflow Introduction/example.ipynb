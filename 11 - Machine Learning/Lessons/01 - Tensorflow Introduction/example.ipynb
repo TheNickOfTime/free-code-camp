{
 "cells": [
  {
   "cell_type": "code",
   "execution_count": null,
   "metadata": {},
   "outputs": [],
   "source": [
    "# %tensorflow_version 2.x\n",
    "import tensorflow as tf\n",
    "# print(tf.version)\n",
    "\n",
    "t = tf.zeros([5, 5, 5, 5])\n",
    "# print(t)\n",
    "t = tf.reshape(t, [125, -1])\n",
    "# print(t)"
   ]
  }
 ],
 "metadata": {
  "kernelspec": {
   "display_name": ".venv",
   "language": "python",
   "name": "python3"
  },
  "language_info": {
   "codemirror_mode": {
    "name": "ipython",
    "version": 3
   },
   "file_extension": ".py",
   "mimetype": "text/x-python",
   "name": "python",
   "nbconvert_exporter": "python",
   "pygments_lexer": "ipython3",
   "version": "3.12.2"
  }
 },
 "nbformat": 4,
 "nbformat_minor": 2
}
