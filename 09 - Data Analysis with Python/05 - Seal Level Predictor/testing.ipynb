{
 "cells": [
  {
   "cell_type": "code",
   "execution_count": null,
   "metadata": {},
   "outputs": [],
   "source": [
    "import pandas as pd\n",
    "import matplotlib.pyplot as plt\n",
    "from scipy.stats import linregress\n",
    "\n",
    "df = pd.read_csv('./epa-sea-level.csv')\n",
    "df"
   ]
  },
  {
   "cell_type": "code",
   "execution_count": null,
   "metadata": {},
   "outputs": [],
   "source": [
    "min_year = df['Year'].min()\n",
    "max_year = df['Year'].max()\n",
    "[min_year, max_year]"
   ]
  },
  {
   "cell_type": "code",
   "execution_count": null,
   "metadata": {},
   "outputs": [],
   "source": [
    "fig, ax = plt.subplots()\n",
    "ax.set_xlim(min_year - 5, 2050 + 5)\n",
    "ax.set_title('Rise in Sea Level')\n",
    "ax.set_xlabel('Year')\n",
    "ax.set_ylabel('Sea Level (inches)')"
   ]
  },
  {
   "cell_type": "code",
   "execution_count": null,
   "metadata": {},
   "outputs": [],
   "source": [
    "scatter_x = df['Year']\n",
    "scatter_y = df['CSIRO Adjusted Sea Level']\n",
    "ax.scatter(x=scatter_x, y=scatter_y, c='cornflowerblue')\n",
    "fig"
   ]
  },
  {
   "cell_type": "code",
   "execution_count": null,
   "metadata": {},
   "outputs": [],
   "source": [
    "# line_one_x = df['Year']\n",
    "# y = df['CSIRO Adjusted Sea Level']\n",
    "# line_one = linregress(x, y)\n",
    "# range_1880_2050 = range(min_year, 2051)\n",
    "# slope = line_one.slope\n",
    "# intercept = line_one.intercept\n",
    "# range_1880_2050\n",
    "# plt.plot(range_1880_2050, intercept + slope * range_1880_2050)\n",
    "\n",
    "line_one_x = range(min_year, 2051)\n",
    "line_one = linregress(scatter_x, scatter_y)\n",
    "ax.plot(line_one_x, line_one.intercept + line_one.slope * line_one_x, c='gold')\n",
    "fig"
   ]
  },
  {
   "cell_type": "code",
   "execution_count": null,
   "metadata": {},
   "outputs": [],
   "source": [
    "df_2000 = df[df['Year'] >= 2000]\n",
    "line_two_x = df_2000['Year']\n",
    "line_two_y = df_2000['CSIRO Adjusted Sea Level']\n",
    "line_two_range = range(2000, 2051)\n",
    "line_two = linregress(line_two_x, line_two_y)\n",
    "ax.plot(line_two_range, line_two.intercept + line_two.slope * line_two_range, c='crimson')\n",
    "fig"
   ]
  },
  {
   "cell_type": "code",
   "execution_count": null,
   "metadata": {},
   "outputs": [],
   "source": [
    "fig.figure.app"
   ]
  },
  {
   "cell_type": "code",
   "execution_count": null,
   "metadata": {},
   "outputs": [],
   "source": [
    "df_2000 = df[df['Year'] >= 2000]\n",
    "x = df_2000['Year']\n",
    "y = df_2000['CSIRO Adjusted Sea Level']\n",
    "line_two = linregress(x, y)\n",
    "\n",
    "plt.plot(x, line_two.intercept + line_two.slope * x)"
   ]
  }
 ],
 "metadata": {
  "kernelspec": {
   "display_name": ".venv",
   "language": "python",
   "name": "python3"
  },
  "language_info": {
   "codemirror_mode": {
    "name": "ipython",
    "version": 3
   },
   "file_extension": ".py",
   "mimetype": "text/x-python",
   "name": "python",
   "nbconvert_exporter": "python",
   "pygments_lexer": "ipython3",
   "version": "3.12.1"
  }
 },
 "nbformat": 4,
 "nbformat_minor": 2
}
